{
 "cells": [
  {
   "cell_type": "code",
   "execution_count": 1,
   "metadata": {},
   "outputs": [],
   "source": [
    "# Ryan Hass\n",
    "# DS 710 Final Project: Python Notebook\n",
    "# 12/14/2020"
   ]
  },
  {
   "cell_type": "code",
   "execution_count": 2,
   "metadata": {},
   "outputs": [],
   "source": [
    "# Imports\n",
    "\n",
    "import tweepy\n",
    "import pandas as pd"
   ]
  },
  {
   "cell_type": "code",
   "execution_count": 3,
   "metadata": {},
   "outputs": [],
   "source": [
    "# Twitter API Setup\n",
    "\n",
    "%run ~\\twitter_credentials.py\n",
    "\n",
    "auth = tweepy.OAuthHandler(consumer_key=con_key, consumer_secret=con_secret)\n",
    "auth.set_access_token(acc_token, acc_secret)\n",
    "\n",
    "api = tweepy.API(auth)"
   ]
  },
  {
   "cell_type": "code",
   "execution_count": 4,
   "metadata": {},
   "outputs": [
    {
     "name": "stdout",
     "output_type": "stream",
     "text": [
      "Could not find any more tweets!\n",
      "Could not find any more tweets!\n",
      "Could not find any more tweets!\n",
      "Could not find any more tweets!\n"
     ]
    }
   ],
   "source": [
    "# Tweet extraction/cleaning function\n",
    "\n",
    "def get_tweets(model, number):   \n",
    "    num_needed = number\n",
    "    tweet_list = []\n",
    "    last_id = -1 # id of last tweet seen\n",
    "    while len(tweet_list) < num_needed:\n",
    "        try:\n",
    "            new_tweets = api.search(q = model+'-filter:retweets', count = 100, max_id = str(last_id - 1), lang = \"en\")\n",
    "        except tweepy.TweepError as e:\n",
    "            print(\"Error\", e)\n",
    "            break\n",
    "        else:\n",
    "            if not new_tweets:\n",
    "                print(\"Could not find any more tweets!\")\n",
    "                break\n",
    "            tweet_list.extend(new_tweets)\n",
    "            last_id = new_tweets[-1].id\n",
    "    return [tweet.text for tweet in tweet_list]\n",
    "\n",
    "# List creation\n",
    "\n",
    "tweet_list_pop = get_tweets(\"#%23popmusic OR #%23hiphopmusic OR #%23rapmusic\", 5000)\n",
    "tweet_list_country = get_tweets(\"#%23countrymusic OR #%23westernmusic OR #%23classiccountrymusic\", 5000)\n",
    "tweet_list_rock = get_tweets(\"#%23rockmusic OR #%23metalmusic OR #%23punkmusic\", 5000)\n",
    "tweet_list_blues = get_tweets(\"#%23jazzmusic OR #%23bluesmusic OR #%23soulmusic\", 5000)\n",
    "tweet_list_dance = get_tweets(\"#%23dancemusic OR #%23partymusic OR #%23edmmusic\", 5000)"
   ]
  },
  {
   "cell_type": "code",
   "execution_count": 5,
   "metadata": {},
   "outputs": [
    {
     "name": "stdout",
     "output_type": "stream",
     "text": [
      "5009\n",
      "2928\n",
      "1649\n",
      "2098\n",
      "2183\n"
     ]
    }
   ],
   "source": [
    "# Individual list lengths (up to limit defined above)\n",
    "\n",
    "print (len(tweet_list_pop))\n",
    "print (len(tweet_list_country))\n",
    "print (len(tweet_list_rock))\n",
    "print (len(tweet_list_blues))\n",
    "print (len(tweet_list_dance))"
   ]
  },
  {
   "cell_type": "code",
   "execution_count": 6,
   "metadata": {},
   "outputs": [
    {
     "name": "stdout",
     "output_type": "stream",
     "text": [
      "Pop Music: ['Old News 💨 #rappers #musician #songwriter #hiphop #rapmusic #smoke #oldpic #oldnews #blackman #follow https://t.co/OYgXmT1L2H', '#NOWPLAYING Alec Benjamin - Let Me Down Slowly \\n\\nCLICK TO LISTEN ➡️ https://t.co/vOgEUK2yXd  \\n\\n#freqnetwork #rock… https://t.co/nFGhc7DCrn', '#NOWPLAYING Mansionz - Dennis Rodman \\n\\nCLICK TO LISTEN ➡️ https://t.co/vOgEUK2yXd  \\n\\n#freqnetwork #rock #pop… https://t.co/FLhNE7TJc0', \"#NOWPLAYING : Gr8te Minds (Positive K &amp; Greg Nice) - That's That  \\nCLICK TO LISTEN ➡️  https://t.co/32Yg5Gtz6L… https://t.co/c85naatphg\", 'Hi @freqnetwork !! Please, could you play \"I See Only You\" by @samalvesmusic  ? Thanks !! #Popmusic #Brasil #USA… https://t.co/ET8ukFiDnZ', 'Hi @freqnetwork !! Please, could you play \"I See Only You\" by @samalvesmusic  ? Thanks !! #Popmusic #Brasil #USA… https://t.co/RiTZu1oorL', 'Hello @freqnetwork !! I would like to hear the music by \\n@samalvesmusic ft @dibofficial1 \"I\\'M  NOT DREAMING \". Plea… https://t.co/aEqMIego1a', 'Hello @freqnetwork !! I would like to hear the music by \\n@samalvesmusic ft @dibofficial1 \"I\\'M  NOT DREAMING \". Plea… https://t.co/nJyGNwe3U3', '@FreedomKRadio Hello  !! I would like to hear the music by \\n@samalvesmusic ft @dibofficial1 \" I\\'M NOT DREAMING \". P… https://t.co/hg0b7DDPqn', '@FreedomKRadio Hello  !! I would like to hear the music by \\n@samalvesmusic ft @dibofficial1 \" I\\'M NOT DREAMING \". P… https://t.co/3g6DZofXOr', '#NOWPLAYING Owl City - FireFlies \\n\\nCLICK TO LISTEN ➡️ https://t.co/vOgEUK2yXd  \\n\\n#freqnetwork #rock #pop… https://t.co/qsOdSkqnIE', '#NOWPLAYING Kardinal Offishal ft Pitbull, - Smash The Club \\n\\nCLICK TO LISTEN ➡️ https://t.co/vOgEUK2yXd… https://t.co/MDK3AjzpBk', '#NOWPLAYING : Nas - The Don  \\nCLICK TO LISTEN ➡️  https://t.co/32Yg5Gtz6L    \\n#beatstrike #hhm #hiphop #np… https://t.co/ZHPaR4P108', 'Hello @RIflorida !! I would like to hear the song by \\n@samalvesmusic #AqueleAmor. Could you play ? Thank you !!… https://t.co/WOWGECh87g', 'Hello @RIflorida !! I would like to hear the song by \\n@samalvesmusic #AqueleAmor. Could you play ? Thank you !!… https://t.co/JHlCILep0j', '-Hey Old Friend- drops TONIGHT!! let’s do something special with this one, it’s a very special song to me:) If you… https://t.co/Mf52dxk6uH', '#NOWPLAYING Cage The Elephant - Aint No Rest For The Wicked \\n\\nCLICK TO LISTEN ➡️ https://t.co/vOgEUK2yXd… https://t.co/s6plBGfvzw', '#NOWPLAYING Reek Da Villian ft Busta Rhymes - Fall Out \\n\\nCLICK TO LISTEN ➡️ https://t.co/vOgEUK2yXd  \\n\\n#freqnetwork… https://t.co/9QEhOQym1b', '#NOWPLAYING Mike Posner - Bow Chicka Wow Wow \\n\\nCLICK TO LISTEN ➡️ https://t.co/vOgEUK2yXd  \\n\\n#freqnetwork #rock… https://t.co/eqVxKFLJ8J', '#NOWPLAYING : LL Cool J - Ill Bomb  \\nCLICK TO LISTEN ➡️  https://t.co/32Yg5Gtz6L    \\n#beatstrike #hhm #hiphop #np… https://t.co/YV9yhs4dpH', '“EMANON The Ep” Available Now On DatPiff!\\n-\\nFollow This Link To Download #EMANONTheEp https://t.co/RgYpseQjA8\\n-… https://t.co/gvmUMnhdKg', '#NOWPLAYING Russ feat. Mahalia - Keep It Pushin \\n\\nCLICK TO LISTEN ➡️ https://t.co/vOgEUK2yXd  \\n\\n#freqnetwork #rock… https://t.co/bSviJvqaUE', '#NOWPLAYING Jennifer Hudson feat T.I. - I Cant Describe \\n\\nCLICK TO LISTEN ➡️ https://t.co/vOgEUK2yXd… https://t.co/GjSl8wq454', '#NOWPLAYING : Blu and Exile - No Greater Love  \\nCLICK TO LISTEN ➡️  https://t.co/32Yg5Gtz6L    \\n#beatstrike #hhm… https://t.co/dHIYvmB0fj', '#NOWPLAYING Musiq Soulchild - Yes \\n\\nCLICK TO LISTEN ➡️ https://t.co/vOgEUK2yXd  \\n\\n#freqnetwork #rock #pop… https://t.co/el3d909uCY']\n",
      "\n",
      "Country Music: ['The sound is #countrymusic and the message is #Jesus 24/7 worldwide at https://t.co/g2W7puMGC4 and on our free app!', 'Song Suffragettes - Live on 12-14-2020 https://t.co/w8093S499e via @YouTube #CountryMusic #songs #music #LadiesOfCountryMusic', 'Osborne, Montana, Smith Take Top Three On MusicRow Top Songwriter Chart https://t.co/mCG77XlyjD #Countrymusic… https://t.co/kKVhVHdjpQ', \"FREE DOWNLOAD \\nhttps://t.co/cx0jcOhjlt\\nDeed's Country Christmas #Browns #clevelandbrowns #cleveland #Christmas… https://t.co/Q3E5Md7QvM\", 'Country music rocker TROY KEMP releases ‘Like A Hit To Me’ on Dec 18. Pre-order available.\\n\\n#Troykemp #countrymusic… https://t.co/y1CdBbg59A', '100 Best Americana and Country Songs of 2020:\\n\\n66. \"Starts with You\" by American Aquarium\\n\\nhttps://t.co/B2SljgW0iW… https://t.co/3PXsZW6ZJS', '100 Best Americana and Country Songs of 2020:\\n\\n67. \"Knowing You\" by Kenny Chesney\\n\\nhttps://t.co/yL6lvgOjqi… https://t.co/5A66yEFnHd', 'This Friday in #fultontx at legends saloon!  #texascountry #livemusic #countrymusictiktoks #countrymusic @ Legends… https://t.co/q9vLNYsC8v', 'Keeping my fingers crossed for when I get to 85 years old and have 38.2 billion dollars and can find me a gold digg… https://t.co/b6Xnl0Ks1T', 'Download / Add My new single #DaddysCreed Now!\\n#CountryMusic #CMT #NewMusicMonday https://t.co/PVyTUDBhbL… https://t.co/sraeRlN5P6', 'On the #WillieNelson #CountryPopCrossover That Changed Everything https://t.co/63WNlwaFlG via @lithub #Countrymusicfanfair #Countrymusic', 'Download / Add My new single #DaddysCreed Now!\\n#CountryMusic #CMT #NewMusicMonday https://t.co/PVyTUDBhbL https://t.co/RgBQYOtuUX', 'New #CountryMusic Spring 2021 !!!\\n#TreyGonzalez #TexasCountry \\n.\\n.\\n@gabrielmunizphoto - photo credit @ Texas https://t.co/jy2mfsFgu7', 'Born #OTD\\nCharlie Rich,A Great Performer,Many Hit Songs\\n \"Good Time Charlie\\'s got the Blues\"\\n#countrymusic… https://t.co/TLWyyHHKBh', 'It’s your day, how would you like evening to go? #dj #djcompany #djlife #desmoines #sheldoniowa #weddingdj #engaged… https://t.co/IHsS0sGEfN', 'Download / Add My new single#DaddysCreed Now!\\n#CountryMusic #CMT #NewMusicMonday @amazonmusic… https://t.co/z9crSrMv7H', '100 Best Americana and Country Songs of 2020:\\n\\n69. \"Black Like Me\" by Mickey Guyton\\n\\nhttps://t.co/vpU9iVbRqz… https://t.co/UnrYzeMcd5', 'Charley Pride Special Tribute \\n\\n#CountryMusic #countrysinger #nashville #nashvillemusic #memphis \\nJoseph Llanes https://t.co/t1eWEqkoW3', '100 Best Americana and Country Songs of 2020:\\n\\n70. \"The First Thing I Reach For\" by Ashley McBryde… https://t.co/5Qjp9MB1Uq', 'Chris Stapleton - Millionaire (Official Audio) https://t.co/xX4LoHAZkv via @YouTube \\n#countrymusic #blues… https://t.co/FBISr9BTKG', 'I’m not saying I glorify the country life but I used a ready made #Christmas #shopping list. (Bought for #Mom,… https://t.co/1wWbY98Su1', 'Jason Seibel-on one all the time-(original song) 3rd verse #rock #bluesmusic #Soul #originalmusic #CountryMusic… https://t.co/NREm6IVqwL', 'Bertha (Live at Fillmore East, New York, NY, April 27, 1971) https://t.co/OI10owR4hM via @YouTube \\n#GratefulDead… https://t.co/xOQjlfj4HX', '.@TyHerndoncom fans make sure to read my @StarryMag exclusive interview with the #singersongwriter at… https://t.co/4UJR6qRSjH', 'Tomorrow on @jesstcountry @countryradiouk you can catch one of the first public plays of my new #single George Jone… https://t.co/H5tk3pgxUF']\n",
      "\n",
      "Rock Music: [\"It's Monday. You know what that means! New video featuring 5 new artists!\\n@braveweatherfl @Post_Profit @skitzfinite… https://t.co/qhGCG9y3YJ\", 'Darkness Calling\\nCold runs through my veins\\nDarkness Calling\\nAlways feels the same...\\nDarkness Calling\\nCold runs th… https://t.co/0LIdmM6WaR', 'Boldly Go! is the Star Trek punk band you never knew you needed\\n#BoldyGo! #StarTrek #PunkMusic \\nhttps://t.co/yjyy9E6dd8', 'PBT speaks to local graffiti crew ZX8BIT #middlesbrough #darlington #redcar #hartlepool #DIY #zine #zines #fanzine… https://t.co/pFG07rLOXw', 'Hey everyone! Our new song “ROCK THIS” drops TOMORROW!!! I can’t wait for you all to hear it!!!🤘🏼🔥🔥🖤❤️❤️… https://t.co/03Ybpo2Tgq', 'We call this #TedWithBeard\\n\\n#rocknroll #rockandroll #thebeatles #rockmusic #newwave #indiepop #weezer  #beachboys… https://t.co/oBMLyr0DWC', 'Who else is as EXCITED as I am for new brilliant music from @dislocatedlove_??? The wait is almost over!!!… https://t.co/jGA8FlgFOe', 'WATCH: Bruce Springsteen and the E Street Band Rock Saturday Night Live #classicrock #rocknroll #rockmusic… https://t.co/hCwH6f8X0Y', \"Vicky Cornell Says Unreleased Soundgarden Music 'Will See The Light Of Day' #classicrock #rocknroll #rockmusic… https://t.co/yD186jWe6S\", '💥 🎶(“New Thing” (HQ_music_stream), Enuff Z’Nuff_08221989)🎶 _ #DonnieVie 🟩⬛️ #ROCKmusic ____ #glamMETAL __ #hardROCK… https://t.co/OaW7y8YMVA', 'On this day in Music The Clash  released their third studio album London Calling. The double album received widespr… https://t.co/ki2svVRynz', 'Thanks so much to our friends at @Only_rock_radio for playing our song, \"Diosa de la Luna\" today!  😎🎶💕\\nROCK ON:… https://t.co/MhBdnIOqOa', 'In Between was our first single written in 2017. We have come a long way as artists and felt a need to revamp some… https://t.co/PmfCrKSoDZ', 'We will be doing a small regional tour this weekend. We are hitting 3 cities in three days. The 18th at the Pegasus… https://t.co/dM5EXpRSND', 'Zero - a rock track I recorded #music #musicvideo #rock #rockmusic #people  https://t.co/VOYCaGMy9B', 'Man Falls off Of Airplane Wing #classicrock #rocknroll #rockmusic @docreno https://t.co/UUWICFUhJo', '963 BIG FM What The Rock With @Ryan_Radio101  Dec 14th 2020 https://t.co/oqSBpfbGeP @sammyhagar @alicecooper… https://t.co/F4uezOM2Fd', 'Checkout this 🔥HOT🔥 New Release by @SonsOfTheSun3   and Tune in 🎧 to #SpotifyPlaylist #BoostDigger ➡️… https://t.co/o2egBVb5UE', '⚡️ The Warning - Show Me The Light (Agua Fría) 💥\\n\\nFirst Rock Concert &amp; Story Telling by The Warning  \\n\\nDany, Pau an… https://t.co/nCqhsBf6x7', 'Lin-Manuel Miranda Covers Pearl Jam For Georgia Senate Runoff Fundraiser #classicrock #rocknroll #rockmusic… https://t.co/hrBnafDY3H', 'Songs are out on @spotify now! Link in bio! Thanks to @aluhbel Chudio Studio for the killer sounds! #missiontx… https://t.co/vAUNIDdd63', 'She Puts The \"Her\" In \"Hero\" (Captain Marvel\\'s Theme) https://t.co/XKSbMsQumx via @YouTube #captainmarvel… https://t.co/AMyrtvNWv6', \"Osees' new album PANTHER ROTATE has been released by Castleface\\n\\nhttps://t.co/Oosr5eSXQQ\\n\\n#music #newmusic… https://t.co/dNaVF3tNAw\", 'Practice Space!\\n\\nStreaming links are in the Bio.\\n\\n#anothershotpa\\n#as-1 \\n#logicprox \\n#music \\n#applemusic\\n#spotify… https://t.co/rpdr4GDtGn', '\"Nothing ever quite dies, it just comes back in a different form.\"\\n\\nLester Bangs -December 14, 1948 – April 30, 198… https://t.co/VWUBpdF8Wj']\n",
      "\n",
      "Blues Music: ['Who will win in a @verzuzonline battle? #isleybrothers or #EWF #music #verzuzbattle #VERZUZ #fortheculture #soul… https://t.co/5dNLRzhynu', 'Inspirational Soul Show Sundays @ 6A.M.(ET)  #inspirational #gospelmusic #Soulmusic https://t.co/BP2CGiERWK https://t.co/y0YL7Mj5O7', \"Let's stay together baby #algreen #algreenletsstaytogether #algreenchallenge #soulmusic #legend @ Mountain View, Ca… https://t.co/YnpS1ljm3B\", 'Shall we?  #LiftOff #Omar #UKSoul #SoulMusic #Intro #Music #Vibes \\n\\n https://t.co/BQ6HhuXTPC', '\\u2066@algreen\\u2069 #sang it rev!! #goodmusic #soulmusic #NowPlaying #jammin  https://t.co/2e1LNKGbln', 'Stumbled across this song while building a playlist for some writing I’m working on. I’ve literally never heard thi… https://t.co/UHlAnl9Pxt', 'So excited to see my #Kickstarter supporters getting my early product!! Album is out Friday, people!! #shaniatwain… https://t.co/8OPnrbSXVz', 'Charlie Parker with Miles Davis- December 11, 1948 Royal Roost, New York City  via @YouTube\\nhttps://t.co/YXYTiH3GPS… https://t.co/95SQ5KPTxC', 'Bill Frisell - Moon River\\nhttps://t.co/hoBXCeI9tM\\n#Jazz #jazzmusic', 'The Midday Soul Show Weekdays 10A.M.(ET) # middaysoul #soulmusic #mysoulradio #mysoul #classicsoul… https://t.co/mVHYiCTKCM', 'Join the show from anywhere in the world! Tomorrow (Tues) at 11:30am Pacific, 7:30pm in the UK!\\n#bluesmusic #blues… https://t.co/O90zEISSQR', 'Inspirational Soul Show Sundays @ 6A.M.(ET)  #inspirational #gospelmusic #Soulmusic https://t.co/BP2CGiERWK https://t.co/tNTCdx8tDh', 'Jason Seibel-on one all the time-(original song) 3rd verse #rock #bluesmusic #Soul #originalmusic #CountryMusic… https://t.co/NREm6IVqwL', 'Sunday Night Live Sundays@7P.M.(ET) #livemusic #soulmusic #hiphop #mysoulradio   https://t.co/BP2CGiERWK https://t.co/GAJbsmxYWz', \"JOURNEY founder NEAL SCHON has released his highly anticipated solo album 'UNIVERSE' a 15 track mixture of symphoni… https://t.co/12DQIOWLUx\", 'Zappa Plays Zappa - Inca Roads (Complete) via @YouTube  feat, George Duke \\nhttps://t.co/CLpLdxDQyw \\n#jazz #art… https://t.co/yneqXxIxHB', 'Download the KTSU Mobile APP👇🏾and Listen to #DriveTimeJazz Hosted by #WernerRichmond 🎶 Monday - Wednesday 6PM - 8PM… https://t.co/8K2o4ik7tB', \"That's What Love Will Make You Do (Live) https://t.co/Xp73qEMKOg via @YouTube \\n#GratefulDead #folkmusic… https://t.co/nRk4JhDgbs\", 'The Midday Soul Show Weekdays 10A.M.(ET) # middaysoul #soulmusic #mysoulradio #mysoul #classicsoul… https://t.co/LAkQsZSY4h', 'McCoy Tyner – Counterpoints - Live In Tokyo\\nhttps://t.co/Jm19bpFAm0 \\n#jazz #art #jazzlegends #instrumental #piano… https://t.co/nJb83OqXy7', \"Maybe you've heard the twelve-bar blues term in many songs, performances, YouTube videos, and so on. The twelve-bar… https://t.co/YAMZhoRaUN\", 'We’re close to 200! \\n\\nSoul music is Good NUTRITION!  👇🏾👇🏾👇🏾\\n\\nhttps://t.co/K5xETBMLJ3 🎧🎤💃🏾\\n\\nFollow me on #soundcloud… https://t.co/o1spqk21GO', 'How do you like your\\xa0Christmas\\xa0songs? Schmalzy soft jazz, White Christmas and all that?\\xa0#bluesmusic #christmas… https://t.co/XqJCtJ9lml', '#jazz #jazzmusic #jazzradio #jazzvocals .... Looking forward to 2021 and getting back on the radio ... Have a good… https://t.co/BFrP5rWMfv', 'Inspirational Soul Show Sundays @ 6A.M.(ET)  #inspirational #gospelmusic #Soulmusic https://t.co/BP2CGiERWK https://t.co/VYXrrLhS9O']\n",
      "\n",
      "Dance Music: ['#NowPlaying: Rogerseventytwo - You Take Me Higher at https://t.co/FbplMEQ5E9 #edm #dancemusic https://t.co/aqgCdYSvS0', '#NowPlaying: David Zowie - House Every Weekend Listen Live: https://t.co/FbplMEQ5E9 #dancemusic #edm https://t.co/mg7GftzZSu', \"Check out 'Magic Hour' - background music for videos &amp; media - https://t.co/IAPSvj1L1O #stockmusic #productionmusic… https://t.co/ibr4EvSnpG\", 'gottdamm, #ADAMSKI still got it. :) #housemusic #dancemusic https://t.co/FjhvOADJgZ', '#NowPlaying: Blonde - I Loved You (feat. Melissa Steel) at https://t.co/FbplMEQ5E9 #edm #dancemusic https://t.co/1Ar9F1bQgA', '\"#AnthonyCisco - Like A Miracle\" available on Beatport https://t.co/pX5npUCirP #Beatport #Dancemusic #DJ #EDM… https://t.co/4DsXHjPFTD', \"17 days left in 2020, let's #justgroove! #dancemusic by @Adeshamusic and @vksf01 #Adeshamusic #indiemusic… https://t.co/jdBNUMpkYn\", '#IWasMuchYoungerWhen Club Mixes where 9-12 minutes or longer. 🎧 #DanceMusic', 'We Are Live!!! Come get your Vibes on! $EDM #housemusic  #Sweet Bass #DanceMusic \\nhttps://t.co/F7FuK08e3m… https://t.co/f1LDvgrAOc', '#NowPlaying: Paul van Dyk - Lights feat Sue McLaren (Giuseppe Ottaviani Remix) at https://t.co/FbplMEQ5E9 #edm… https://t.co/7I0m2xeeh3', \"Check out 'Burn Rubber' by Rocky Thunderdome - https://t.co/FE29QIkdLE  #dancemusic #electronicmusic #EDM… https://t.co/bCkm6EfS6e\", '#NowPlaying: Block &amp; Crown, Chris Marina - Is It Love (Original Mix) at https://t.co/FbplMEQ5E9 #edm #dancemusic https://t.co/wdBCqPP4kg', \"Check out 'Dark Days Indeed' by Rocky Thunderdome - https://t.co/MEgsYCxHS4  #dancemusic #electronicmusic #EDM… https://t.co/3v9BAcKJsk\", \"Main way we'll find each other is thru these hashtags:\\n\\n#EDM #ProgressiveHouse #HouseMusic #DeepHouse #Trance… https://t.co/OMls7Jtq6W\", 'Oh I! Somethings coming 😈 #newmusic #electronicmusic #dancemusic #singer #singersongwriter #lyricist #alpha #omega… https://t.co/PDJbE3DRl1', '@djalross giving all of us some free 🔥🔥🔥 grab it while you can ;) #edm #rave #electronicmusic #dubstep… https://t.co/eOODzSm69x', 'Set your reminders for 7 hours to an awesome remix.  #electronicmusic #newmusic #music #electronic #dancemusic… https://t.co/KtLhyLUOBb', '#NowPlaying: Rudi - Come Over (feat Anne-Marie &amp; Tion Wayne) (Paul Woolford Remix) at https://t.co/FbplMEQ5E9 #edm… https://t.co/ARTu9VVWj8', '#NowPlaying: Torren Foot - More Life (feat. TInie &amp; L Devine) at https://t.co/FbplMEQ5E9 #edm #dancemusic https://t.co/qJZoJG32k4', \"Check out 'Teenage Angst' by Rocky Thunderdome - https://t.co/K1OqOmPTVf  #dancemusic #electronicmusic #EDM… https://t.co/Gt4lkRNj9K\", '#NowPlaying: EDX - Feel the Rush at https://t.co/FbplMEQ5E9 #edm #dancemusic https://t.co/jkOYbADBjn', 'Uploaded \"LATE NIGHT THROWDOWN | VOL II EPISODE 3\" to @mixcloud!\\n\\nListen Here: https://t.co/gsdzTLXuqX listen now!… https://t.co/pj79JT2xs2', 'Do you ever question your life?\\nDo you ever wonder why?\\nDo you ever see in your dreams\\nAll the castles in the sky?… https://t.co/RN8gkSZVDp', 'Good evening Twitter fam! Find us on multiple platforms we will be releasing some 🔥🔥🔥 livestreams \\nScafetta Undead… https://t.co/NJgE45XxO5', '#NowPlaying: Solardo x Paul Woolford - Tear It Up (feat Pamela Fernandez) Listen Live: https://t.co/FbplMEQ5E9… https://t.co/f5h9Xf4IqC']\n"
     ]
    }
   ],
   "source": [
    "# Sanity check of first 25 tweets\n",
    "\n",
    "print(\"Pop Music:\", tweet_list_pop[0:25])\n",
    "print()\n",
    "print(\"Country Music:\", tweet_list_country[0:25])\n",
    "print()\n",
    "print(\"Rock Music:\", tweet_list_rock[0:25])\n",
    "print()\n",
    "print(\"Blues Music:\", tweet_list_blues[0:25])\n",
    "print()\n",
    "print(\"Dance Music:\", tweet_list_dance[0:25])"
   ]
  },
  {
   "cell_type": "code",
   "execution_count": 7,
   "metadata": {},
   "outputs": [
    {
     "name": "stdout",
     "output_type": "stream",
     "text": [
      "145\n",
      "285\n",
      "337\n",
      "230\n",
      "221\n"
     ]
    }
   ],
   "source": [
    "# Exclamation mark counting function\n",
    "\n",
    "def ex_count(tweet_list):\n",
    "    count = 0;  \n",
    "    for i in range (0, 1500):   \n",
    "        if (\"!\") in tweet_list[i]:  \n",
    "            count = count + 1;\n",
    "    return count\n",
    "\n",
    "print(ex_count(tweet_list_pop))\n",
    "print(ex_count(tweet_list_country))\n",
    "print(ex_count(tweet_list_rock))\n",
    "print(ex_count(tweet_list_blues))\n",
    "print(ex_count(tweet_list_dance))"
   ]
  },
  {
   "cell_type": "code",
   "execution_count": 8,
   "metadata": {},
   "outputs": [
    {
     "data": {
      "text/html": [
       "<div>\n",
       "<style scoped>\n",
       "    .dataframe tbody tr th:only-of-type {\n",
       "        vertical-align: middle;\n",
       "    }\n",
       "\n",
       "    .dataframe tbody tr th {\n",
       "        vertical-align: top;\n",
       "    }\n",
       "\n",
       "    .dataframe thead th {\n",
       "        text-align: right;\n",
       "    }\n",
       "</style>\n",
       "<table border=\"1\" class=\"dataframe\">\n",
       "  <thead>\n",
       "    <tr style=\"text-align: right;\">\n",
       "      <th></th>\n",
       "      <th>Tweet Text</th>\n",
       "    </tr>\n",
       "  </thead>\n",
       "  <tbody>\n",
       "    <tr>\n",
       "      <th>POP</th>\n",
       "      <td>[Old News 💨 #rappers #musician #songwriter #hi...</td>\n",
       "    </tr>\n",
       "    <tr>\n",
       "      <th>COUNTRY</th>\n",
       "      <td>[The sound is #countrymusic and the message is...</td>\n",
       "    </tr>\n",
       "    <tr>\n",
       "      <th>ROCK</th>\n",
       "      <td>[It's Monday. You know what that means! New vi...</td>\n",
       "    </tr>\n",
       "    <tr>\n",
       "      <th>BLUES</th>\n",
       "      <td>[Who will win in a @verzuzonline battle? #isle...</td>\n",
       "    </tr>\n",
       "    <tr>\n",
       "      <th>DANCE</th>\n",
       "      <td>[#NowPlaying: Rogerseventytwo - You Take Me Hi...</td>\n",
       "    </tr>\n",
       "  </tbody>\n",
       "</table>\n",
       "</div>"
      ],
      "text/plain": [
       "                                                Tweet Text\n",
       "POP      [Old News 💨 #rappers #musician #songwriter #hi...\n",
       "COUNTRY  [The sound is #countrymusic and the message is...\n",
       "ROCK     [It's Monday. You know what that means! New vi...\n",
       "BLUES    [Who will win in a @verzuzonline battle? #isle...\n",
       "DANCE    [#NowPlaying: Rogerseventytwo - You Take Me Hi..."
      ]
     },
     "execution_count": 8,
     "metadata": {},
     "output_type": "execute_result"
    }
   ],
   "source": [
    "# Creating a raw data dataframe\n",
    "\n",
    "pop_trunc = tweet_list_pop[0:200]\n",
    "country_trunc = tweet_list_country[0:200]\n",
    "rock_trunc = tweet_list_rock[0:200]\n",
    "blues_trunc = tweet_list_blues[0:200]\n",
    "dance_trunc = tweet_list_dance[0:200]\n",
    "\n",
    "r = {'Tweet Text': [pop_trunc, country_trunc, rock_trunc, blues_trunc, dance_trunc]}\n",
    "\n",
    "raw_data = pd.DataFrame(data=r)\n",
    "\n",
    "raw_data.index = ['POP', 'COUNTRY', 'ROCK', 'BLUES', 'DANCE']\n",
    "\n",
    "raw_data"
   ]
  },
  {
   "cell_type": "code",
   "execution_count": 9,
   "metadata": {},
   "outputs": [
    {
     "data": {
      "text/html": [
       "<div>\n",
       "<style scoped>\n",
       "    .dataframe tbody tr th:only-of-type {\n",
       "        vertical-align: middle;\n",
       "    }\n",
       "\n",
       "    .dataframe tbody tr th {\n",
       "        vertical-align: top;\n",
       "    }\n",
       "\n",
       "    .dataframe thead th {\n",
       "        text-align: right;\n",
       "    }\n",
       "</style>\n",
       "<table border=\"1\" class=\"dataframe\">\n",
       "  <thead>\n",
       "    <tr style=\"text-align: right;\">\n",
       "      <th></th>\n",
       "      <th>Tweet Count</th>\n",
       "      <th>Exclamation Count</th>\n",
       "    </tr>\n",
       "  </thead>\n",
       "  <tbody>\n",
       "    <tr>\n",
       "      <th>POP</th>\n",
       "      <td>5009</td>\n",
       "      <td>145</td>\n",
       "    </tr>\n",
       "    <tr>\n",
       "      <th>COUNTRY</th>\n",
       "      <td>2928</td>\n",
       "      <td>285</td>\n",
       "    </tr>\n",
       "    <tr>\n",
       "      <th>ROCK</th>\n",
       "      <td>1649</td>\n",
       "      <td>337</td>\n",
       "    </tr>\n",
       "    <tr>\n",
       "      <th>BLUES</th>\n",
       "      <td>2098</td>\n",
       "      <td>230</td>\n",
       "    </tr>\n",
       "    <tr>\n",
       "      <th>DANCE</th>\n",
       "      <td>2183</td>\n",
       "      <td>221</td>\n",
       "    </tr>\n",
       "  </tbody>\n",
       "</table>\n",
       "</div>"
      ],
      "text/plain": [
       "         Tweet Count  Exclamation Count\n",
       "POP             5009                145\n",
       "COUNTRY         2928                285\n",
       "ROCK            1649                337\n",
       "BLUES           2098                230\n",
       "DANCE           2183                221"
      ]
     },
     "execution_count": 9,
     "metadata": {},
     "output_type": "execute_result"
    }
   ],
   "source": [
    "# Creating a summary dataframe\n",
    "\n",
    "d = {'Tweet Count': [len(tweet_list_pop), len(tweet_list_country), len(tweet_list_rock), len(tweet_list_blues), len(tweet_list_dance)], 'Exclamation Count': [ex_count(tweet_list_pop), ex_count(tweet_list_country), ex_count(tweet_list_rock), ex_count(tweet_list_blues), ex_count(tweet_list_dance)]} \n",
    "\n",
    "summary_df = pd.DataFrame(data=d)\n",
    "\n",
    "summary_df.index = ['POP', 'COUNTRY', 'ROCK', 'BLUES', 'DANCE']\n",
    "\n",
    "summary_df"
   ]
  },
  {
   "cell_type": "code",
   "execution_count": 10,
   "metadata": {},
   "outputs": [],
   "source": [
    "# Saving data as .csv for R analysis\n",
    "\n",
    "raw_data.to_csv(\"finalprojectrawdata.csv\", index = True)\n",
    "\n",
    "summary_df.to_csv(\"finalprojectsummarydata.csv\", index = True)"
   ]
  }
 ],
 "metadata": {
  "kernelspec": {
   "display_name": "Python 3",
   "language": "python",
   "name": "python3"
  },
  "language_info": {
   "codemirror_mode": {
    "name": "ipython",
    "version": 3
   },
   "file_extension": ".py",
   "mimetype": "text/x-python",
   "name": "python",
   "nbconvert_exporter": "python",
   "pygments_lexer": "ipython3",
   "version": "3.8.8"
  }
 },
 "nbformat": 4,
 "nbformat_minor": 4
}
